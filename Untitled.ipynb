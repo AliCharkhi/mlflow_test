{
 "cells": [
  {
   "cell_type": "code",
   "execution_count": 1,
   "metadata": {},
   "outputs": [],
   "source": [
    "import mlflow"
   ]
  },
  {
   "cell_type": "code",
   "execution_count": null,
   "metadata": {},
   "outputs": [
    {
     "name": "stdout",
     "output_type": "stream",
     "text": [
      "[2019-01-22 13:37:38 +0100] [353] [INFO] Starting gunicorn 19.9.0\n",
      "[2019-01-22 13:37:38 +0100] [353] [INFO] Listening at: http://127.0.0.1:5000 (353)\n",
      "[2019-01-22 13:37:38 +0100] [353] [INFO] Using worker: sync\n",
      "[2019-01-22 13:37:38 +0100] [356] [INFO] Booting worker with pid: 356\n"
     ]
    }
   ],
   "source": [
    "!mlflow ui"
   ]
  }
 ],
 "metadata": {
  "kernelspec": {
   "display_name": "Python 3",
   "language": "python",
   "name": "python3"
  },
  "language_info": {
   "codemirror_mode": {
    "name": "ipython",
    "version": 3
   },
   "file_extension": ".py",
   "mimetype": "text/x-python",
   "name": "python",
   "nbconvert_exporter": "python",
   "pygments_lexer": "ipython3",
   "version": "3.6.5"
  }
 },
 "nbformat": 4,
 "nbformat_minor": 2
}
